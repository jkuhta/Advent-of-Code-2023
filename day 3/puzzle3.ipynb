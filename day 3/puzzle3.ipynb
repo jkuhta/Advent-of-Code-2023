{
 "cells": [
  {
   "cell_type": "code",
   "execution_count": 1525,
   "metadata": {},
   "outputs": [],
   "source": [
    "import re"
   ]
  },
  {
   "cell_type": "code",
   "execution_count": 1526,
   "metadata": {},
   "outputs": [
    {
     "name": "stdout",
     "output_type": "stream",
     "text": [
      "........................................................862...........20.............453...619......58........694...312.................292.\n",
      "\n"
     ]
    }
   ],
   "source": [
    "with open('input.txt') as f:\n",
    "    lines = f.readlines()\n",
    "\n",
    "print(lines[0])"
   ]
  },
  {
   "cell_type": "code",
   "execution_count": 1527,
   "metadata": {},
   "outputs": [],
   "source": [
    "total_part_sum = 0\n",
    "part_numbers = []\n",
    "gear_dict = {}\n",
    "gear_ratios = 0"
   ]
  },
  {
   "cell_type": "code",
   "execution_count": 1528,
   "metadata": {},
   "outputs": [],
   "source": [
    "def check_gear(x,y,lines,number):\n",
    "    if lines[x][y] == \"*\":\n",
    "        key = (x,y)\n",
    "        if key in gear_dict:\n",
    "            gear_dict[key].append(int(number))\n",
    "        else:\n",
    "            gear_dict[key] = [int(number)]"
   ]
  },
  {
   "cell_type": "code",
   "execution_count": 1529,
   "metadata": {},
   "outputs": [],
   "source": [
    "def check_left(line_ix, lines, number, start_ix):\n",
    "   # print(\"NUMBER: \", number)\n",
    "    # print(\"LEFT CHECKED\")\n",
    "\n",
    "   \n",
    "    # gor levo\n",
    "    # gor levo\n",
    "    if line_ix != 0:\n",
    "        if lines[line_ix-1][start_ix-1] != \".\":\n",
    "            check_gear(line_ix-1,start_ix-1,lines,number)\n",
    "            return True\n",
    "    \n",
    "    # sredina levo\n",
    "    \n",
    "    if lines[line_ix][start_ix-1] != \".\":\n",
    "        check_gear(line_ix,start_ix-1,lines,number)\n",
    "        return True\n",
    "    \n",
    "    # dol levo\n",
    "    if line_ix != len(lines)-1:\n",
    "        if lines[line_ix+1][start_ix-1] != \".\":\n",
    "            check_gear(line_ix+1,start_ix-1,lines,number)\n",
    "            return True\n",
    "    \n",
    "    return False\n"
   ]
  },
  {
   "cell_type": "code",
   "execution_count": 1530,
   "metadata": {},
   "outputs": [],
   "source": [
    "def check_right(line_ix, lines, number, start_ix):\n",
    "    num_len = len(str(number))\n",
    "    # print(\"RIGHT CHECKED\")\n",
    "    \n",
    "    \n",
    "    # gor desno\n",
    "    if line_ix != 0:\n",
    "        if lines[line_ix-1][start_ix+num_len] != \".\":\n",
    "            check_gear(line_ix-1,start_ix+num_len,lines,number)\n",
    "            return True\n",
    "    \n",
    "    # sredina desno\n",
    "    if lines[line_ix][start_ix+num_len] != \".\":\n",
    "        check_gear(line_ix,start_ix+num_len,lines,number)\n",
    "\n",
    "        return True\n",
    "    \n",
    "    # dol desno\n",
    "    if line_ix != len(lines)-1:\n",
    "        if lines[line_ix+1][start_ix+num_len] != \".\":\n",
    "            check_gear(line_ix+1,start_ix+num_len,lines,number)\n",
    "            return True\n",
    "    \n",
    "    return False\n"
   ]
  },
  {
   "cell_type": "code",
   "execution_count": 1531,
   "metadata": {},
   "outputs": [],
   "source": [
    "def check_up(line_ix, lines, number, start_ix):\n",
    "    num_len = len(str(number))\n",
    "    #print(\"NUMBER: \", number)\n",
    "    # print(\"UP CHECKED\")\n",
    "\n",
    "    \n",
    "    for n in range(num_len):\n",
    "      #  print(lines[line_ix-1][start_ix + n])\n",
    "        if lines[line_ix-1][start_ix + n] != \".\":\n",
    "            check_gear(line_ix-1,start_ix+n,lines,number)\n",
    "\n",
    "            return True\n",
    "    \n",
    "    return False"
   ]
  },
  {
   "cell_type": "code",
   "execution_count": 1532,
   "metadata": {},
   "outputs": [],
   "source": [
    "def check_down(line_ix, lines, number, start_ix):\n",
    "    num_len = len(str(number))\n",
    "    #print(dow\"NUMBER LEN: \", num_len)\n",
    "    # print(\"DOWN CHECKED\")\n",
    "    for n in range(num_len):\n",
    "        if lines[line_ix+1][start_ix + n] != \".\":\n",
    "            check_gear(line_ix+1,start_ix+n,lines,number)\n",
    "\n",
    "            return True\n",
    "    \n",
    "    return False"
   ]
  },
  {
   "cell_type": "code",
   "execution_count": 1533,
   "metadata": {},
   "outputs": [],
   "source": [
    "def check_if_part(line_ix, lines, number, start_ix, line):\n",
    "    if start_ix > 0:\n",
    "        if check_left(line_ix, lines, number, start_ix):\n",
    "            return True\n",
    "    #print(\"LINES1\", start_ix + len(str(number)), len(line))\n",
    "    if start_ix + len(str(number))!= len(line):\n",
    "        if check_right(line_ix, lines, number, start_ix):\n",
    "            #print(\"123\")\n",
    "            return True\n",
    "    if line_ix != 0:\n",
    "        if check_up(line_ix, lines, number, start_ix):\n",
    "            \n",
    "            return True\n",
    "    #print(\"LINES2\", line_ix, len(lines)-1)\n",
    "    if line_ix < len(lines)-1:\n",
    "        #print(\"line len\",line_ix, len(lines))\n",
    "        if check_down(line_ix, lines, number, start_ix):\n",
    "            return True\n",
    "    return False"
   ]
  },
  {
   "cell_type": "code",
   "execution_count": 1534,
   "metadata": {},
   "outputs": [
    {
     "name": "stdout",
     "output_type": "stream",
     "text": [
      "PART NUMBERS: [453, 58, 694, 312, 49, 46, 140, 735, 852, 706, 860, 297, 459, 998, 661, 418, 883, 727, 517, 982, 828, 865, 163, 381, 312, 34, 533, 291, 440, 488, 370, 122, 598, 400, 451, 746, 864, 279, 203, 731, 335, 41, 659, 817, 89, 931, 672, 661, 92, 72, 455, 155, 966, 823, 702, 881, 874, 494, 364, 587, 701, 621, 93, 273, 497, 814, 201, 863, 113, 363, 900, 111, 586, 289, 898, 306, 894, 754, 803, 609, 80, 52, 246, 118, 321, 642, 764, 644, 980, 726, 306, 787, 550, 666, 902, 946, 230, 245, 481, 203, 433, 294, 862, 261, 184, 782, 984, 992, 678, 229, 239, 437, 681, 809, 541, 812, 704, 434, 840, 300, 17, 26, 793, 71, 486, 240, 261, 605, 953, 65, 724, 854, 86, 922, 546, 762, 137, 279, 382, 925, 323, 616, 597, 419, 985, 370, 735, 597, 966, 699, 874, 446, 798, 711, 905, 694, 700, 492, 706, 536, 417, 913, 39, 77, 975, 876, 954, 443, 804, 36, 51, 369, 247, 244, 639, 49, 952, 365, 377, 603, 540, 369, 215, 276, 397, 856, 959, 81, 370, 958, 768, 41, 853, 737, 802, 560, 286, 596, 490, 411, 817, 101, 727, 404, 689, 606, 233, 59, 202, 61, 328, 90, 460, 155, 913, 881, 928, 285, 142, 819, 755, 609, 927, 539, 21, 699, 952, 844, 88, 952, 409, 539, 674, 337, 59, 698, 67, 185, 775, 726, 259, 141, 471, 172, 185, 670, 411, 246, 554, 951, 201, 723, 914, 482, 777, 78, 507, 918, 688, 564, 199, 537, 489, 730, 239, 16, 269, 220, 782, 592, 857, 435, 343, 913, 487, 183, 481, 118, 419, 286, 163, 752, 933, 10, 315, 958, 934, 882, 51, 512, 769, 533, 264, 6, 720, 550, 408, 366, 794, 615, 297, 60, 292, 106, 889, 468, 239, 314, 831, 130, 48, 655, 757, 976, 594, 924, 99, 759, 750, 236, 251, 451, 274, 868, 939, 477, 580, 739, 743, 346, 802, 91, 531, 739, 661, 925, 894, 55, 995, 178, 90, 139, 855, 583, 377, 588, 261, 28, 10, 697, 812, 141, 342, 255, 155, 254, 516, 876, 364, 453, 745, 216, 187, 686, 782, 936, 579, 736, 9, 797, 809, 983, 448, 700, 152, 587, 444, 375, 744, 21, 140, 576, 420, 399, 822, 377, 657, 856, 658, 111, 718, 764, 758, 40, 632, 574, 850, 626, 112, 456, 707, 35, 96, 891, 218, 714, 850, 131, 334, 776, 896, 878, 121, 736, 737, 429, 125, 104, 397, 389, 441, 841, 363, 103, 820, 306, 772, 851, 580, 750, 601, 38, 715, 54, 832, 226, 282, 264, 63, 360, 887, 130, 208, 2, 241, 969, 588, 782, 208, 918, 476, 606, 464, 447, 674, 979, 979, 302, 642, 937, 200, 837, 109, 525, 476, 564, 295, 623, 647, 825, 385, 275, 492, 2, 303, 991, 290, 830, 246, 912, 104, 940, 440, 931, 595, 741, 272, 778, 507, 803, 559, 328, 966, 516, 494, 842, 464, 750, 338, 253, 386, 656, 529, 662, 757, 868, 258, 843, 413, 513, 359, 588, 16, 359, 555, 10, 145, 136, 980, 681, 625, 147, 588, 82, 397, 376, 677, 633, 523, 607, 372, 439, 311, 96, 938, 815, 839, 286, 830, 115, 351, 850, 959, 453, 392, 750, 954, 627, 120, 50, 900, 818, 668, 848, 979, 863, 250, 507, 751, 411, 350, 702, 292, 615, 676, 140, 800, 895, 93, 51, 295, 59, 84, 521, 883, 33, 801, 917, 667, 893, 485, 55, 895, 315, 574, 168, 215, 123, 966, 774, 526, 11, 533, 766, 709, 624, 275, 189, 836, 342, 551, 178, 621, 561, 214, 207, 822, 63, 499, 825, 167, 265, 891, 758, 953, 727, 273, 413, 818, 275, 81, 447, 506, 242, 793, 531, 885, 18, 710, 645, 98, 520, 958, 88, 66, 911, 44, 455, 298, 510, 366, 306, 153, 689, 690, 318, 701, 156, 519, 386, 917, 754, 606, 164, 28, 303, 921, 342, 558, 67, 682, 586, 541, 756, 931, 92, 826, 662, 775, 419, 510, 822, 690, 398, 9, 999, 617, 681, 360, 508, 594, 437, 385, 647, 709, 71, 539, 864, 826, 529, 260, 672, 538, 996, 560, 639, 867, 922, 891, 695, 376, 922, 875, 542, 932, 409, 888, 322, 205, 940, 2, 411, 635, 698, 119, 65, 511, 574, 971, 85, 630, 561, 556, 514, 663, 416, 243, 728, 521, 131, 979, 227, 556, 499, 895, 42, 614, 498, 612, 205, 138, 664, 190, 834, 348, 887, 730, 475, 404, 474, 168, 175, 549, 320, 261, 267, 676, 629, 487, 142, 551, 751, 360, 41, 416, 144, 438, 385, 635, 330, 544, 369, 349, 479, 995, 566, 80, 595, 468, 507, 301, 619, 383, 498, 950, 484, 258, 926, 224, 394, 81, 904, 537, 521, 882, 231, 837, 370, 625, 116, 11, 311, 375, 708, 67, 380, 600, 811, 287, 211, 987, 448, 408, 405, 17, 32, 180, 81, 315, 148, 401, 713, 475, 707, 852, 830, 484, 77, 902, 505, 273, 837, 33, 492, 80, 203, 686, 722, 178, 191, 791, 433, 342, 689, 988, 923, 622, 850, 679, 376, 812, 742, 148, 663, 177, 839, 388, 269, 496, 274, 791, 190, 74, 912, 435, 107, 790, 640, 200, 578, 83, 252, 269, 970, 823, 875, 515, 305, 274, 261, 136, 635, 26, 438, 469, 193, 55, 244, 185, 287, 556, 245, 855, 928, 61, 370, 74, 488, 970, 315, 999, 928, 431, 370, 909, 468, 471, 961, 350, 746, 38, 261, 301, 750, 7, 860, 900, 300, 410, 209, 98, 801, 313, 491, 845, 160, 313, 547, 986, 139, 331, 401, 513, 362, 540, 913, 655, 510, 483, 433, 264, 43, 176, 253, 645, 16, 116, 309, 569, 402, 83, 884, 618, 465, 989, 505, 101, 974, 871, 565, 297, 179, 199, 924, 713, 367, 308, 752, 997, 23, 396, 883, 306, 148, 76, 979, 382, 677, 933, 637, 659, 678, 445, 952, 837, 755, 795, 178, 731, 855, 173, 15, 417, 180, 328, 392, 495, 546, 16, 65, 772, 937, 981, 92, 164, 833, 116, 149, 225, 287, 240, 242, 749, 49, 202, 985, 732, 812, 533, 468, 30, 228, 94, 798, 431, 425, 929, 704, 982, 332, 307, 704, 775, 973, 90, 711, 253, 119, 486, 89, 438, 487, 823, 883, 291, 813, 425, 659, 491, 896, 943, 590, 414, 969, 896, 622, 938, 184, 935, 71, 84, 825, 528, 990, 745, 901, 974, 637, 87, 361]\n",
      "TOTAL SUM: 539433\n",
      "GEAR RATIOS: 75847567\n"
     ]
    }
   ],
   "source": [
    "for line_ix, line in enumerate(lines):\n",
    "    line = line.split(\"\\n\")[0]\n",
    "    numbers = re.findall(r'\\d+', line)\n",
    "    for number in numbers:\n",
    "        is_part = False\n",
    "        \n",
    "        # start_ix = line.find(number)\n",
    "        pattern = rf'(?<![0-9]){re.escape(number)}(?![0-9])'\n",
    "        start_ix = re.search(pattern, line).start() \n",
    "        end_ix = re.search(pattern, line).end() \n",
    "        if line[start_ix:end_ix] != number: print(\"SOSSOSOSO\")\n",
    "       # print(start_ix)\n",
    "        \n",
    "        is_part = check_if_part(line_ix, lines, number, start_ix, line)\n",
    "        \n",
    "        line = re.sub(number, \".\"*len(str(number)), line, count=1)\n",
    "        #print(number, \"|\", is_part)\n",
    "\n",
    "        if is_part:\n",
    "            total_part_sum += int(number)\n",
    "            part_numbers.append(int(number))\n",
    "\n",
    "for val in gear_dict.values():\n",
    "    if len(val) == 2:\n",
    "        gear_ratio = val[0] * val[1]\n",
    "        gear_ratios += gear_ratio\n",
    "        \n",
    "\n",
    "        \n",
    "print(\"PART NUMBERS:\", part_numbers)\n",
    "print(\"TOTAL SUM:\", total_part_sum)\n",
    "print(\"GEAR RATIOS:\", gear_ratios)"
   ]
  }
 ],
 "metadata": {
  "kernelspec": {
   "display_name": "ganenv",
   "language": "python",
   "name": "python3"
  },
  "language_info": {
   "codemirror_mode": {
    "name": "ipython",
    "version": 3
   },
   "file_extension": ".py",
   "mimetype": "text/x-python",
   "name": "python",
   "nbconvert_exporter": "python",
   "pygments_lexer": "ipython3",
   "version": "3.9.18"
  }
 },
 "nbformat": 4,
 "nbformat_minor": 2
}
