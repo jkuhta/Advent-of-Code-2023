{
 "cells": [
  {
   "cell_type": "code",
   "execution_count": 393,
   "metadata": {},
   "outputs": [],
   "source": [
    "import copy"
   ]
  },
  {
   "cell_type": "code",
   "execution_count": 394,
   "metadata": {},
   "outputs": [],
   "source": [
    "import sys\n",
    "\n",
    "sys.setrecursionlimit(10000)\n"
   ]
  },
  {
   "cell_type": "code",
   "execution_count": 395,
   "metadata": {},
   "outputs": [],
   "source": [
    "with open('input.txt') as f:\n",
    "    lines = f.readlines()"
   ]
  },
  {
   "cell_type": "code",
   "execution_count": 396,
   "metadata": {},
   "outputs": [],
   "source": [
    "field = []\n",
    "energized_field = []\n",
    "\n",
    "for line in lines:\n",
    "    line = line.split(\"\\n\")[0]\n",
    "    line = [char for char in line]\n",
    "    eng_line = [[] for char in line]\n",
    "    field.append(line)\n",
    "    energized_field.append(eng_line)\n",
    "# for line in field:\n",
    "#     print(line)\n",
    "    \n",
    "energized_field_raw = copy.deepcopy(energized_field)"
   ]
  },
  {
   "cell_type": "code",
   "execution_count": 397,
   "metadata": {},
   "outputs": [],
   "source": [
    "total_points = 0\n",
    "total_scores = []\n"
   ]
  },
  {
   "cell_type": "code",
   "execution_count": 398,
   "metadata": {},
   "outputs": [],
   "source": [
    "def next_tile(i,j,dir):\n",
    "    if dir == \"U\":\n",
    "        return i-1,j\n",
    "    if dir == \"R\":\n",
    "        return i,j+1\n",
    "    if dir == \"D\":\n",
    "        return i+1,j\n",
    "    if dir == \"L\":\n",
    "        return i,j-1"
   ]
  },
  {
   "cell_type": "code",
   "execution_count": 399,
   "metadata": {},
   "outputs": [],
   "source": [
    "def next_dir(tile, dir):\n",
    "    # print(tile, dir)\n",
    "    if tile == \".\":\n",
    "        return dir, None\n",
    "    if tile == \"|\" and (dir == \"U\" or dir == \"D\"):\n",
    "        return dir, None\n",
    "    if tile == \"|\":\n",
    "        return \"U\", \"D\"\n",
    "    if tile == \"-\" and (dir == \"L\" or dir == \"R\"):\n",
    "        return dir, None\n",
    "    if tile == \"-\":\n",
    "        return \"L\", \"R\"\n",
    "    if tile == \"/\" and dir == \"D\":\n",
    "        return \"L\", None\n",
    "    if tile == \"/\" and dir == \"U\":\n",
    "        return \"R\", None\n",
    "    if tile == \"/\" and dir == \"R\":\n",
    "        return \"U\", None\n",
    "    if tile == \"/\" and dir == \"L\":\n",
    "        return \"D\", None\n",
    "    if tile == \"\\\\\" and dir == \"D\":\n",
    "        return \"R\", None\n",
    "    if tile == \"\\\\\" and dir == \"U\":\n",
    "        return \"L\", None\n",
    "    if tile == \"\\\\\" and dir == \"R\":\n",
    "        return \"D\", None\n",
    "    if tile == \"\\\\\" and dir == \"L\":\n",
    "        return \"U\", None\n",
    "    return None, None"
   ]
  },
  {
   "cell_type": "code",
   "execution_count": 400,
   "metadata": {},
   "outputs": [],
   "source": [
    "def next_step(i,j, field, dir):\n",
    "    global total_points\n",
    "    i,j = next_tile(i,j,dir)\n",
    "    \n",
    "    if i < 0 or i >= len(field) or j < 0 or j >= len(field[0]):\n",
    "        return\n",
    "    \n",
    "    if dir in energized_field[i][j]:\n",
    "        return\n",
    "    else:\n",
    "        if len(energized_field[i][j]) == 0:\n",
    "            total_points += 1\n",
    "        energized_field[i][j].append(dir)\n",
    "        \n",
    "    tile = field[i][j]\n",
    "\n",
    "    next_dir1, next_dir2 = next_dir(tile, dir)\n",
    "    \n",
    "    next_step(i,j,field,next_dir1)\n",
    "    if next_dir2:\n",
    "        next_step(i,j,field,next_dir2)"
   ]
  },
  {
   "cell_type": "code",
   "execution_count": 401,
   "metadata": {},
   "outputs": [
    {
     "name": "stdout",
     "output_type": "stream",
     "text": [
      "-- PART 1 --\n",
      "TOTAL POINTS:  8125\n"
     ]
    }
   ],
   "source": [
    "next_step(0,-1,field,\"R\")\n",
    "print(\"-- PART 1 --\")\n",
    "print(\"TOTAL POINTS: \", total_points)\n"
   ]
  },
  {
   "cell_type": "code",
   "execution_count": 402,
   "metadata": {},
   "outputs": [
    {
     "name": "stdout",
     "output_type": "stream",
     "text": [
      "-- PART 2 --\n",
      "TOTAL MAX SCORE: 8489\n"
     ]
    }
   ],
   "source": [
    "total_scores = []\n",
    "for i in range(len(field[0])):\n",
    "    energized_field = copy.deepcopy(energized_field_raw)\n",
    "    total_points = 0\n",
    "    next_step(-1,i,field,\"D\")\n",
    "    total_scores.append(total_points)\n",
    "    \n",
    "for i in range(len(field)):\n",
    "    energized_field = copy.deepcopy(energized_field_raw)\n",
    "    total_points = 0\n",
    "    next_step(i,-1,field,\"R\")\n",
    "    total_scores.append(total_points)\n",
    "\n",
    "\n",
    "for i in range(len(field[0])):\n",
    "    energized_field = copy.deepcopy(energized_field_raw)\n",
    "    total_points = 0\n",
    "    next_step(len(field)-1,i,field,\"U\")\n",
    "    total_scores.append(total_points)\n",
    "\n",
    "    \n",
    "for i in range(len(field)):\n",
    "    energized_field = copy.deepcopy(energized_field_raw)\n",
    "    total_points = 0\n",
    "    next_step(i,len(field[0])-1,field,\"L\")\n",
    "    total_scores.append(total_points)\n",
    "\n",
    "print(\"-- PART 2 --\")\n",
    "print(\"TOTAL MAX SCORE:\", max(total_scores))"
   ]
  }
 ],
 "metadata": {
  "kernelspec": {
   "display_name": "ganenv",
   "language": "python",
   "name": "python3"
  },
  "language_info": {
   "codemirror_mode": {
    "name": "ipython",
    "version": 3
   },
   "file_extension": ".py",
   "mimetype": "text/x-python",
   "name": "python",
   "nbconvert_exporter": "python",
   "pygments_lexer": "ipython3",
   "version": "3.9.18"
  }
 },
 "nbformat": 4,
 "nbformat_minor": 2
}
