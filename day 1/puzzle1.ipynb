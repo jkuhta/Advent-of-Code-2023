{
 "cells": [
  {
   "cell_type": "code",
   "execution_count": 187,
   "metadata": {},
   "outputs": [],
   "source": [
    "import re"
   ]
  },
  {
   "cell_type": "code",
   "execution_count": 188,
   "metadata": {},
   "outputs": [
    {
     "name": "stdout",
     "output_type": "stream",
     "text": [
      "two1nine\n",
      "\n"
     ]
    }
   ],
   "source": [
    "with open(\"test.txt\") as f:\n",
    "    lines = f.readlines()\n",
    "\n",
    "print(lines[0])\n"
   ]
  },
  {
   "cell_type": "code",
   "execution_count": 189,
   "metadata": {},
   "outputs": [],
   "source": [
    "digit_dict = {\n",
    "    'one': '1',\n",
    "    'two': '2',\n",
    "    'three': '3',\n",
    "    'four': '4',\n",
    "    'five': '5',\n",
    "    'six': '6',\n",
    "    'seven': '7',\n",
    "    'eight': '8',\n",
    "    'nine': '9',\n",
    "    'zero': '0'\n",
    "}"
   ]
  },
  {
   "cell_type": "code",
   "execution_count": 190,
   "metadata": {},
   "outputs": [],
   "source": [
    "total_sum = 0"
   ]
  },
  {
   "cell_type": "code",
   "execution_count": 191,
   "metadata": {},
   "outputs": [],
   "source": [
    "def word2number(line):\n",
    "    words = {}\n",
    "    for key in digit_dict.keys():\n",
    "        ix = line.find(key)\n",
    "        if ix >= 0:\n",
    "            words[ix] = key\n",
    "    \n",
    "    words = list(sorted(words.items()))\n",
    "    \n",
    "    if len(words) > 0:    \n",
    "        _, key = words[0]\n",
    "        line = re.sub(key, digit_dict[key], line)       \n",
    "     \n",
    "    if len(words) > 1:\n",
    "        _, key = words[-1]\n",
    "        line = re.sub(key, digit_dict[key], line) \n",
    "    \n",
    "    \n",
    "    return line"
   ]
  },
  {
   "cell_type": "code",
   "execution_count": 192,
   "metadata": {},
   "outputs": [
    {
     "name": "stdout",
     "output_type": "stream",
     "text": [
      "two1nine\n",
      "\n",
      "219\n",
      "\n",
      "29\n",
      "eightwothree\n",
      "\n",
      "8wo3\n",
      "\n",
      "83\n",
      "abcone2threexyz\n",
      "\n",
      "abc123xyz\n",
      "\n",
      "13\n",
      "xtwone3four\n",
      "\n",
      "x2ne34\n",
      "\n",
      "24\n",
      "4nineeightseven2\n",
      "\n",
      "49eight72\n",
      "\n",
      "42\n",
      "zoneight234\n",
      "\n",
      "zon8234\n",
      "\n",
      "84\n",
      "7pqrstsixteen\n",
      "7pqrst6teen\n",
      "76\n",
      "351\n"
     ]
    }
   ],
   "source": [
    "\n",
    "for line in lines:\n",
    "    print(line)\n",
    "    line = word2number(line)\n",
    "    print(line)\n",
    "    line = ''.join(c for c in line if c.isdigit())\n",
    "    string_number = line[0] + line[-1]\n",
    "    print(string_number)\n",
    "    number = int(string_number)\n",
    "    total_sum += number\n",
    "    \n",
    "print(total_sum)\n"
   ]
  }
 ],
 "metadata": {
  "kernelspec": {
   "display_name": "ganenv",
   "language": "python",
   "name": "python3"
  },
  "language_info": {
   "codemirror_mode": {
    "name": "ipython",
    "version": 3
   },
   "file_extension": ".py",
   "mimetype": "text/x-python",
   "name": "python",
   "nbconvert_exporter": "python",
   "pygments_lexer": "ipython3",
   "version": "3.9.18"
  }
 },
 "nbformat": 4,
 "nbformat_minor": 2
}
