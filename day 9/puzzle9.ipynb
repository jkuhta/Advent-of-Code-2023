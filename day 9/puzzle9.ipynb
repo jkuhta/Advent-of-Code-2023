{
 "cells": [
  {
   "cell_type": "code",
   "execution_count": null,
   "metadata": {},
   "outputs": [],
   "source": [
    "with open('input.txt') as f:\n",
    "    lines = f.readlines()"
   ]
  },
  {
   "cell_type": "code",
   "execution_count": null,
   "metadata": {},
   "outputs": [],
   "source": [
    "total_next_values = 0\n",
    "total_prev_values = 0"
   ]
  },
  {
   "cell_type": "code",
   "execution_count": null,
   "metadata": {},
   "outputs": [],
   "source": [
    "def find_next_value(values):\n",
    "    if all(x == 0 for x in values):\n",
    "        return 0\n",
    "    \n",
    "    diffs = [values[i+1] - values[i] for i in range(0,len(values)-1, 1)]\n",
    "\n",
    "    return diffs[-1] + find_next_value(diffs)"
   ]
  },
  {
   "cell_type": "code",
   "execution_count": null,
   "metadata": {},
   "outputs": [],
   "source": [
    "def find_prev_value(values):\n",
    "    if all(x == 0 for x in values):\n",
    "        return 0\n",
    "    \n",
    "    diffs = [values[i+1] - values[i] for i in range(0,len(values)-1, 1)]\n",
    "    \n",
    "    return diffs[0] - find_prev_value(diffs)"
   ]
  },
  {
   "cell_type": "code",
   "execution_count": null,
   "metadata": {},
   "outputs": [],
   "source": [
    "for line in lines:\n",
    "    values = [int(x) for x in line.split(\" \")]\n",
    "    next_value = values[-1] + find_next_value(values)\n",
    "    total_next_values += next_value\n",
    "    \n",
    "    prev_value = values[0] - find_prev_value(values)\n",
    "    total_prev_values += prev_value\n",
    "\n",
    "print(\"TOTAL NEXT VALUES:\", total_next_values) \n",
    "print(\"TOTAL PREV VALUES:\", total_prev_values) "
   ]
  }
 ],
 "metadata": {
  "kernelspec": {
   "display_name": "ganenv",
   "language": "python",
   "name": "python3"
  },
  "language_info": {
   "codemirror_mode": {
    "name": "ipython",
    "version": 3
   },
   "file_extension": ".py",
   "mimetype": "text/x-python",
   "name": "python",
   "nbconvert_exporter": "python",
   "pygments_lexer": "ipython3",
   "version": "3.9.18"
  }
 },
 "nbformat": 4,
 "nbformat_minor": 2
}
