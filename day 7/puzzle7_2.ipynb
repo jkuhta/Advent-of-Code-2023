{
 "cells": [
  {
   "cell_type": "code",
   "execution_count": null,
   "metadata": {},
   "outputs": [],
   "source": [
    "with open(\"input.txt\") as f:\n",
    "    lines = f.readlines()"
   ]
  },
  {
   "cell_type": "code",
   "execution_count": null,
   "metadata": {},
   "outputs": [],
   "source": [
    "hands = []\n",
    "order = \"AKQT98765432J\"\n",
    "\n",
    "for line in lines:\n",
    "    hand, bid = line.split(\"\\n\")[0].split(\" \")\n",
    "    hands.append((hand, int(bid)))\n",
    "  \n",
    "    \n",
    "print(hands)"
   ]
  },
  {
   "cell_type": "code",
   "execution_count": null,
   "metadata": {},
   "outputs": [],
   "source": [
    "def sort_key(hand, type):\n",
    "    \n",
    "    return (type, [order.index(char) for char in hand])\n",
    "\n",
    "def basic_sort(arr):\n",
    "    arr = sorted(arr, key=lambda x: sort_key(x[0], x[1]))\n",
    "    return arr"
   ]
  },
  {
   "cell_type": "code",
   "execution_count": null,
   "metadata": {},
   "outputs": [],
   "source": [
    "def change_jokers(dict):\n",
    "    #print(dict)\n",
    "    \n",
    "    num_jokers = dict[\"J\"]\n",
    "    \n",
    "    if num_jokers > 0 and num_jokers < 5:\n",
    "        del dict[\"J\"]\n",
    "        most_occ = max(dict, key=lambda k: dict[k])\n",
    "        #print(most_occ)\n",
    "        dict[most_occ] += num_jokers\n",
    "    #print(dict)\n",
    "    return dict"
   ]
  },
  {
   "cell_type": "code",
   "execution_count": null,
   "metadata": {},
   "outputs": [],
   "source": [
    "from collections import Counter\n",
    "\n",
    "\n",
    "str = \"2QAKK\"\n",
    "\n",
    "def get_type(s):\n",
    "    \n",
    "    dict = Counter(s)\n",
    "    \n",
    "    dict = change_jokers(dict)\n",
    "    \n",
    "    occ = sorted(dict.values(), reverse = True)\n",
    "    \n",
    "    l = len(occ)\n",
    "    # Ace\n",
    "    if l == 1:\n",
    "        return 1\n",
    "    \n",
    "    # High card\n",
    "    if l == 5:\n",
    "        return 7\n",
    "    \n",
    "    # 1 Pair\n",
    "    if l == 4:\n",
    "        return 6\n",
    "    \n",
    "    if l == 3:\n",
    "        # Three of a kind\n",
    "        if occ[0] == 3:\n",
    "            return 4\n",
    "        # 2 Pair\n",
    "        else:\n",
    "            return 5\n",
    "\n",
    "    if l == 2:\n",
    "        # Four of a kind\n",
    "        if occ[0] == 4:\n",
    "            return 2\n",
    "        # Full House\n",
    "        else:\n",
    "            return 3\n",
    "        \n",
    "    return None\n",
    "\n"
   ]
  },
  {
   "cell_type": "code",
   "execution_count": null,
   "metadata": {},
   "outputs": [],
   "source": [
    "# Add hand type to the tuple\n",
    "hands = [(hand, get_type(hand), bid) for hand, bid in hands]\n",
    "\n",
    "print(hands)"
   ]
  },
  {
   "cell_type": "markdown",
   "metadata": {},
   "source": []
  },
  {
   "cell_type": "code",
   "execution_count": null,
   "metadata": {},
   "outputs": [],
   "source": [
    "sorted_hands = basic_sort(hands)\n",
    "sorted_hands.reverse()\n",
    "print(sorted_hands)\n"
   ]
  },
  {
   "cell_type": "code",
   "execution_count": null,
   "metadata": {},
   "outputs": [],
   "source": [
    "total_winnings = 0\n",
    "\n",
    "for ix, (_,_,bid)in enumerate(sorted_hands):\n",
    "    rank = ix + 1\n",
    "    winning = rank * bid\n",
    "    total_winnings += winning\n",
    "    \n",
    "print(total_winnings)"
   ]
  }
 ],
 "metadata": {
  "kernelspec": {
   "display_name": "ganenv",
   "language": "python",
   "name": "python3"
  },
  "language_info": {
   "codemirror_mode": {
    "name": "ipython",
    "version": 3
   },
   "file_extension": ".py",
   "mimetype": "text/x-python",
   "name": "python",
   "nbconvert_exporter": "python",
   "pygments_lexer": "ipython3",
   "version": "3.9.18"
  }
 },
 "nbformat": 4,
 "nbformat_minor": 2
}
