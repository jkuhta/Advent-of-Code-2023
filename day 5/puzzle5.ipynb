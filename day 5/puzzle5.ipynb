{
 "cells": [
  {
   "cell_type": "code",
   "execution_count": 1348,
   "metadata": {},
   "outputs": [],
   "source": [
    "import re"
   ]
  },
  {
   "cell_type": "code",
   "execution_count": 1349,
   "metadata": {},
   "outputs": [
    {
     "name": "stdout",
     "output_type": "stream",
     "text": [
      "seeds: 4239267129 20461805 2775736218 52390530 3109225152 741325372 1633502651 46906638 967445712 47092469 2354891449 237152885 2169258488 111184803 2614747853 123738802 620098496 291114156 2072253071 28111202\n",
      "\n"
     ]
    }
   ],
   "source": [
    "with open('input.txt') as f:\n",
    "    lines = f.readlines()\n",
    "    \n",
    "print(lines[0])"
   ]
  },
  {
   "cell_type": "code",
   "execution_count": 1350,
   "metadata": {},
   "outputs": [
    {
     "name": "stdout",
     "output_type": "stream",
     "text": [
      "[4239267129, 20461805, 2775736218, 52390530, 3109225152, 741325372, 1633502651, 46906638, 967445712, 47092469, 2354891449, 237152885, 2169258488, 111184803, 2614747853, 123738802, 620098496, 291114156, 2072253071, 28111202]\n"
     ]
    }
   ],
   "source": [
    "seed_line = lines[0].split(\":\")[1]\n",
    "\n",
    "seeds = re.findall(r'\\d+', seed_line)\n",
    "seeds = [int(x) for x in seeds]\n",
    "\n",
    "print(seeds)\n"
   ]
  },
  {
   "cell_type": "code",
   "execution_count": 1351,
   "metadata": {},
   "outputs": [],
   "source": [
    "def get_ranges_1(seeds):\n",
    "    ranges = []\n",
    "    for i in range(0,len(seeds), 1):\n",
    "        start = seeds[i]\n",
    "        length = 1\n",
    "        ranges.append(range(start,start+length))\n",
    "        \n",
    "    return ranges\n"
   ]
  },
  {
   "cell_type": "code",
   "execution_count": 1352,
   "metadata": {},
   "outputs": [],
   "source": [
    "def get_ranges_2(seeds):\n",
    "    ranges = []\n",
    "    for i in range(0,len(seeds), 2):\n",
    "        start = seeds[i]\n",
    "        length = seeds[i+1]\n",
    "        ranges.append(range(start,start+length))\n",
    "        \n",
    "    return ranges\n",
    "\n",
    "\n",
    "#print(ranges)"
   ]
  },
  {
   "cell_type": "code",
   "execution_count": 1353,
   "metadata": {},
   "outputs": [],
   "source": [
    "def read_line(line):\n",
    "    start_dest, start_source, l = re.findall(r'\\d+', line)\n",
    "    return int(start_dest), int(start_source), int(l)"
   ]
  },
  {
   "cell_type": "code",
   "execution_count": 1354,
   "metadata": {},
   "outputs": [],
   "source": [
    "def range_intersection(range1, range2):\n",
    "    start = max(range1.start, range2.start)\n",
    "    end = min(range1.stop, range2.stop)\n",
    "    \n",
    "    #print(\"START/END:\", start, end)\n",
    "\n",
    "    # Check if there is a valid intersection\n",
    "    if start <= end:\n",
    "        return range(start, end)\n",
    "    else:\n",
    "        return None"
   ]
  },
  {
   "cell_type": "code",
   "execution_count": 1355,
   "metadata": {},
   "outputs": [],
   "source": [
    "def merge_overlapping_ranges(ranges):\n",
    "    sorted_ranges = sorted(ranges, key=lambda x: x.start)\n",
    "    merged_ranges = [sorted_ranges[0]]\n",
    "\n",
    "    for current_range in sorted_ranges[1:]:\n",
    "        previous_range = merged_ranges[-1]\n",
    "\n",
    "        if current_range.start <= previous_range.stop:  # Overlapping ranges\n",
    "            merged_ranges[-1] = range(previous_range.start, max(previous_range.stop, current_range.stop))\n",
    "        else:\n",
    "            merged_ranges.append(current_range)\n",
    "\n",
    "    return merged_ranges"
   ]
  },
  {
   "cell_type": "code",
   "execution_count": 1356,
   "metadata": {},
   "outputs": [],
   "source": [
    "def do_map(lines, ix, ranges):\n",
    "    splited = [False] * len(ranges)\n",
    "    final_ranges=[]\n",
    "    for i, line in enumerate(lines[ix+1:]):\n",
    "        if line == \"\\n\":\n",
    "            break\n",
    "        start_dest, start_source, l = read_line(line)\n",
    "        map_range = range(start_source, start_source+l)\n",
    "        new_ranges = []\n",
    "\n",
    "        for range_ in ranges:\n",
    "            new_range = range_intersection(range_, map_range)\n",
    "            if new_range is not None and len(new_range) > 0:\n",
    " \n",
    "                range_1 = range(range_.start,new_range.start)\n",
    "                if len(range_1)>0:\n",
    "                    new_ranges.append(range_1)\n",
    "                    \n",
    "                range_2 = range(new_range.start - start_source + start_dest, new_range.stop - start_source + start_dest)\n",
    "                final_ranges.append(range_2)\n",
    "                \n",
    "                range_3 = range(new_range.stop, range_.stop)\n",
    "                if len(range_3)>0:\n",
    "                    new_ranges.append(range_3)\n",
    "\n",
    "            else: \n",
    "                new_ranges.append(range_)\n",
    "                        \n",
    "        ranges = new_ranges             \n",
    "\n",
    "\n",
    "    if len(new_ranges)>0:\n",
    "        final_ranges.extend(new_ranges)\n",
    "        \n",
    "    final_ranges = merge_overlapping_ranges(final_ranges)\n",
    "    return i + ix + 2, final_ranges"
   ]
  },
  {
   "cell_type": "code",
   "execution_count": 1357,
   "metadata": {},
   "outputs": [],
   "source": [
    "def get_lowest_location(ranges):\n",
    "    next_ix = 2\n",
    "    for map in [\"soil\", \"fertilizer\", \"water\", \"light\", \"temperature\", \"humidity\", \"location\"]:\n",
    "        print(\"----\", map, \"----\")\n",
    "        next_ix, ranges = do_map(lines, next_ix, ranges)\n",
    "        print(\"NEW RANGES:\", ranges)\n",
    "        \n",
    "    min_start = min(ranges, key=lambda x: x[0])[0]  \n",
    "    \n",
    "    return min_start\n"
   ]
  },
  {
   "cell_type": "code",
   "execution_count": 1358,
   "metadata": {},
   "outputs": [
    {
     "name": "stdout",
     "output_type": "stream",
     "text": [
      "---- PART 1 ----\n",
      "[4239267129, 20461805, 2775736218, 52390530, 3109225152, 741325372, 1633502651, 46906638, 967445712, 47092469, 2354891449, 237152885, 2169258488, 111184803, 2614747853, 123738802, 620098496, 291114156, 2072253071, 28111202]\n",
      "START RANGES: [range(4239267129, 4239267130), range(20461805, 20461806), range(2775736218, 2775736219), range(52390530, 52390531), range(3109225152, 3109225153), range(741325372, 741325373), range(1633502651, 1633502652), range(46906638, 46906639), range(967445712, 967445713), range(47092469, 47092470), range(2354891449, 2354891450), range(237152885, 237152886), range(2169258488, 2169258489), range(111184803, 111184804), range(2614747853, 2614747854), range(123738802, 123738803), range(620098496, 620098497), range(291114156, 291114157), range(2072253071, 2072253072), range(28111202, 28111203)]\n",
      "---- soil ----\n",
      "NEW RANGES: [range(20461805, 20461806), range(28111202, 28111203), range(46906638, 46906639), range(47092469, 47092470), range(52390530, 52390531), range(111184803, 111184804), range(123738802, 123738803), range(237152885, 237152886), range(523302616, 523302617), range(620308033, 620308034), range(903735687, 903735688), range(1129856027, 1129856028), range(1795912966, 1795912967), range(1958938663, 1958938664), range(2130289211, 2130289212), range(2390145615, 2390145616), range(2748445110, 2748445111), range(2812184894, 2812184895), range(3141169234, 3141169235), range(3384979464, 3384979465)]\n",
      "---- fertilizer ----\n",
      "NEW RANGES: [range(172942240, 172942241), range(180591637, 180591638), range(199387073, 199387074), range(199572904, 199572905), range(204870965, 204870966), range(263665238, 263665239), range(276219237, 276219238), range(389633320, 389633321), range(523302616, 523302617), range(620308033, 620308034), range(748319972, 748319973), range(789662794, 789662795), range(1582797831, 1582797832), range(1754148379, 1754148380), range(2014004783, 2014004784), range(2681891127, 2681891128), range(2908011467, 2908011468), range(3734641748, 3734641749), range(4063626088, 4063626089), range(4267447784, 4267447785)]\n",
      "---- water ----\n",
      "NEW RANGES: [range(120991818, 120991819), range(217997235, 217997236), range(426295404, 426295405), range(433944801, 433944802), range(452740237, 452740238), range(452926068, 452926069), range(458224129, 458224130), range(517018402, 517018403), range(529572401, 529572402), range(642986484, 642986485), range(748319972, 748319973), range(913894120, 913894121), range(1072526454, 1072526455), range(1288162149, 1288162150), range(1459512697, 1459512698), range(1858882688, 1858882689), range(2240826298, 2240826299), range(3735966635, 3735966636), range(3981089704, 3981089705), range(4184911400, 4184911401)]\n",
      "---- light ----\n",
      "NEW RANGES: [range(269738743, 269738744), range(473220387, 473220388), range(680287544, 680287545), range(742815938, 742815939), range(755369937, 755369938), range(1018985371, 1018985372), range(1622781967, 1622781968), range(1805505971, 1805505972), range(1813155368, 1813155369), range(1831950804, 1831950805), range(1832136635, 1832136636), range(1837434696, 1837434697), range(2027760354, 2027760355), range(2131001235, 2131001236), range(2236334723, 2236334724), range(2280796365, 2280796366), range(2497311186, 2497311187), range(3168451740, 3168451741), range(3413574809, 3413574810), range(3617396505, 3617396506)]\n",
      "---- temperature ----\n",
      "NEW RANGES: [range(519057280, 519057281), range(764180349, 764180350), range(968002045, 968002046), range(1432719271, 1432719272), range(1615443275, 1615443276), range(1625245371, 1625245372), range(1637799370, 1637799371), range(1901414804, 1901414805), range(2496250579, 2496250580), range(2556626274, 2556626275), range(2575421710, 2575421711), range(2575607541, 2575607542), range(2580905602, 2580905603), range(2771231260, 2771231261), range(2874472141, 2874472142), range(3454637120, 3454637121), range(3499098762, 3499098763), range(3715613583, 3715613584), range(3939963659, 3939963660), range(4273612861, 4273612862)]\n",
      "---- humidity ----\n",
      "NEW RANGES: [range(38536046, 38536047), range(503253272, 503253273), range(1158663132, 1158663133), range(1403786201, 1403786202), range(1615443275, 1615443276), range(1625245371, 1625245372), range(2050745911, 2050745912), range(2095207553, 2095207554), range(2473571756, 2473571757), range(2617271190, 2617271191), range(2942707041, 2942707042), range(3046369324, 3046369325), range(3154857783, 3154857784), range(3624591033, 3624591034), range(3789818408, 3789818409), range(3978560284, 3978560285), range(4143085794, 4143085795), range(4161881230, 4161881231), range(4162067061, 4162067062), range(4167365122, 4167365123)]\n",
      "---- location ----\n",
      "NEW RANGES: [range(389056265, 389056266), range(896125601, 896125602), range(1158663132, 1158663133), range(1583034692, 1583034693), range(1662910605, 1662910606), range(1707372247, 1707372248), range(2085736450, 2085736451), range(2229435884, 2229435885), range(2726147260, 2726147261), range(2891374635, 2891374636), range(3080116511, 3080116512), range(3244642021, 3244642022), range(3263437457, 3263437458), range(3263623288, 3263623289), range(3268921349, 3268921350), range(3534972574, 3534972575), range(3746629648, 3746629649), range(3756431744, 3756431745), range(3932126948, 3932126949), range(4040615407, 4040615408)]\n",
      "\n",
      "LOWEST LOCATION NUMBER: 389056265\n"
     ]
    }
   ],
   "source": [
    "print(\"---- PART 1 ----\")\n",
    "print(seeds)\n",
    "ranges = get_ranges_1(seeds)\n",
    "\n",
    "print(\"START RANGES:\", ranges)\n",
    "\n",
    "min_location = get_lowest_location(ranges)\n",
    "\n",
    "print(\"\\nLOWEST LOCATION NUMBER:\", min_location)\n"
   ]
  },
  {
   "cell_type": "code",
   "execution_count": 1359,
   "metadata": {},
   "outputs": [
    {
     "name": "stdout",
     "output_type": "stream",
     "text": [
      "---- PART 2 ----\n",
      "START RANGES: [range(4239267129, 4259728934), range(2775736218, 2828126748), range(3109225152, 3850550524), range(1633502651, 1680409289), range(967445712, 1014538181), range(2354891449, 2592044334), range(2169258488, 2280443291), range(2614747853, 2738486655), range(620098496, 911212652), range(2072253071, 2100364273)]\n",
      "---- soil ----\n",
      "NEW RANGES: [range(523302616, 551413818), range(620308033, 731492836), range(803774611, 1073622967), range(1129856027, 1176948496), range(1795912966, 1842819604), range(1958938663, 2011329193), range(2130289211, 2367442096), range(2390145615, 2513884417), range(2748445110, 2768906915), range(3141169234, 3162435034), range(3384979464, 4126304836)]\n",
      "---- fertilizer ----\n",
      "NEW RANGES: [range(523302616, 551413818), range(620308033, 718912393), range(748319972, 770426288), range(789662794, 1345482420), range(1441878450, 1466678772), range(1582797831, 1635188361), range(1754148379, 1991301264), range(2014004783, 2137743585), range(2311562087, 2509648276), range(2581930051, 2851778407), range(2908011467, 2955103936), range(4063626088, 4084891888), range(4267447784, 4287909589)]\n",
      "---- water ----\n",
      "NEW RANGES: [range(120991818, 149103020), range(217997235, 253353164), range(655663962, 718912393), range(748319972, 770426288), range(778924681, 857661060), range(913894120, 960986589), range(1288162149, 1340552679), range(1459512697, 1537957912), range(1628957290, 1653757612), range(1677471499, 1836179169), range(1858882688, 1982621490), range(2156439992, 2230088185), range(2240826298, 2796645924), range(3439285788, 3563723784), range(3636005559, 3827117536), range(3981089704, 4002355504), range(4184911400, 4205373205)]\n",
      "---- light ----\n",
      "NEW RANGES: [range(0, 15787022), range(131579303, 147696555), range(185352437, 259000630), range(269738743, 448356882), range(517844904, 521726297), range(574832089, 657584025), range(680287544, 703336145), range(874357733, 900025353), range(1018985371, 1098978469), range(1184082177, 1208882499), range(1232596386, 1539191864), range(1548505089, 1551752225), range(1552938507, 1566548907), range(1622781967, 1669874436), range(2027760354, 2033978459), range(2041290570, 2102535156), range(2143678713, 2206927144), range(2236334723, 2255193903), range(2280796365, 2316152294), range(2497311186, 2525422388), range(2556445662, 2559285332), range(2565181002, 2766992510), range(2930963948, 2931486438), range(3069013154, 3259602641), range(3413574809, 3434840609), range(3617396505, 3637858310), range(3966707879, 3973379176), range(4054552653, 4178990649), range(4183266377, 4206248494)]\n",
      "---- temperature ----\n",
      "NEW RANGES: [range(0, 15787022), range(131579303, 147696555), range(185352437, 236622733), range(281569488, 282091978), range(419618694, 610208181), range(764180349, 785446149), range(968002045, 988463850), range(1181179826, 1349129168), range(1358442393, 1361689529), range(1362875811, 1376486211), range(1432719271, 1479811740), range(1756787166, 1782454786), range(1901414804, 2070406693), range(2101429967, 2104269637), range(2110165307, 2311976815), range(2431001498, 2473547060), range(2496250579, 2519299180), range(2771231260, 2777449365), range(2784761476, 2846006062), range(2887149619, 2949756126), range(3096328200, 3102999497), range(3184172974, 3308610970), range(3312886698, 3335868815), range(3424587617, 3425229541), range(3454637120, 3473496300), range(3499098762, 3534454691), range(3715613583, 3744561044), range(3757836450, 3915100154), range(3984588176, 3988469569), range(4041575361, 4081781735), range(4121218717, 4194830125), range(4240496851, 4262874748), range(4273612861, 4294967296)]\n",
      "---- humidity ----\n",
      "NEW RANGES: [range(38536046, 58997851), range(251713827, 419663169), range(428976394, 432223530), range(433409812, 447020212), range(503253272, 550345741), range(639605852, 655392874), range(771185155, 787302407), range(824958289, 876228585), range(921175340, 921697830), range(1059224546, 1249814033), range(1403786201, 1425052001), range(1630698708, 1683938506), range(1780281765, 1904719761), range(1908995489, 1931977606), range(2020696408, 2021338332), range(2050745911, 2069605091), range(2095207553, 2130563482), range(2195908552, 2206773728), range(2237797002, 2240636672), range(2246532342, 2285123511), range(2324766399, 2350434019), range(2473571756, 2496620357), range(2529768467, 2588805111), range(2629948668, 2692555175), range(2839127249, 2845798546), range(2877161160, 2916301205), range(2942707041, 2964061476), range(3046369324, 3052587429), range(3059899540, 3152662189), range(3199482300, 3203363693), range(3256469485, 3296675859), range(3336112841, 3409724249), range(3455390975, 3477768872), range(3484769060, 3504194894), range(3563519671, 3606065233), range(3624591033, 3782717746), range(3978560284, 4007507745), range(4020783151, 4138906810)]\n",
      "---- location ----\n",
      "NEW RANGES: [range(137516820, 305466162), range(314779387, 318026523), range(319212805, 332823205), range(389056265, 436148734), range(525408845, 541195867), range(656988148, 673105400), range(710761282, 762031578), range(806978333, 807500823), range(896125601, 916587406), range(1059224546, 1249814033), range(1319593240, 1426868383), range(1479454900, 1486126197), range(1517488811, 1556628856), range(1583034692, 1604389127), range(1662910605, 1681769785), range(1707372247, 1742728176), range(1808073246, 1818938422), range(1849961696, 1852801366), range(1858697036, 1897288205), range(1936931093, 1962598713), range(2085736450, 2108785051), range(2141933161, 2200969805), range(2242113362, 2304719869), range(2370576087, 2387738940), range(2392014668, 2414996785), range(2503715587, 2504357511), range(2510765899, 2511280476), range(2556947202, 2579325099), range(2586325287, 2605751121), range(2665075898, 2707621460), range(2726147260, 2884273973), range(3080116511, 3109063972), range(3122339378, 3240463037), range(3534972574, 3556238374), range(3761885081, 3815124879), range(3932126948, 3938345053), range(3945657164, 4038419813), range(4085239924, 4089121317), range(4142227109, 4182433483), range(4221870465, 4294967296)]\n",
      "\n",
      "LOWEST LOCATION NUMBER: 137516820\n"
     ]
    }
   ],
   "source": [
    "print(\"---- PART 2 ----\")\n",
    "ranges = get_ranges_2(seeds)\n",
    "print(\"START RANGES:\", ranges)\n",
    "\n",
    "min_location = get_lowest_location(ranges)\n",
    "\n",
    "print(\"\\nLOWEST LOCATION NUMBER:\", min_location)\n"
   ]
  }
 ],
 "metadata": {
  "kernelspec": {
   "display_name": "ganenv",
   "language": "python",
   "name": "python3"
  },
  "language_info": {
   "codemirror_mode": {
    "name": "ipython",
    "version": 3
   },
   "file_extension": ".py",
   "mimetype": "text/x-python",
   "name": "python",
   "nbconvert_exporter": "python",
   "pygments_lexer": "ipython3",
   "version": "3.9.18"
  }
 },
 "nbformat": 4,
 "nbformat_minor": 2
}
