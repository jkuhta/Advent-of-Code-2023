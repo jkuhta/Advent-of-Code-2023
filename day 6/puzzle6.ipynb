{
 "cells": [
  {
   "cell_type": "code",
   "execution_count": null,
   "metadata": {},
   "outputs": [],
   "source": [
    "import re"
   ]
  },
  {
   "cell_type": "code",
   "execution_count": null,
   "metadata": {},
   "outputs": [],
   "source": [
    "with open(\"input.txt\") as f:\n",
    "    lines = f.readlines()\n",
    "    \n",
    "    "
   ]
  },
  {
   "cell_type": "code",
   "execution_count": null,
   "metadata": {},
   "outputs": [],
   "source": [
    "time_line = lines[0].split(\":\")[1]\n",
    "dist_line = lines[1].split(\":\")[1]"
   ]
  },
  {
   "cell_type": "code",
   "execution_count": null,
   "metadata": {},
   "outputs": [],
   "source": [
    "times = re.findall(r'\\d+', time_line)\n",
    "distances = re.findall(r'\\d+', dist_line)\n",
    "times = [int(x) for x in times]\n",
    "distances = [int(x) for x in distances]\n",
    "\n",
    "print(times)\n",
    "print(distances)\n"
   ]
  },
  {
   "cell_type": "code",
   "execution_count": null,
   "metadata": {},
   "outputs": [],
   "source": [
    "def calculate_margin(time,distance):\n",
    "    count = 0\n",
    "    for hold_time in range(time):\n",
    "        race_time = time - hold_time\n",
    "        race_distance = race_time * hold_time\n",
    "        if race_distance > distance:\n",
    "            count += 1\n",
    "    return count"
   ]
  },
  {
   "cell_type": "code",
   "execution_count": null,
   "metadata": {},
   "outputs": [],
   "source": [
    "total_margin = 1\n",
    "for time, distance in zip(times,distances):\n",
    "    race_margin = calculate_margin(time,distance)\n",
    "    print(\"Race Margin:\",race_margin)\n",
    "    total_margin = total_margin * race_margin\n",
    "\n",
    "print(\"TOTAL MARGIN:\", total_margin)"
   ]
  }
 ],
 "metadata": {
  "kernelspec": {
   "display_name": "ganenv",
   "language": "python",
   "name": "python3"
  },
  "language_info": {
   "codemirror_mode": {
    "name": "ipython",
    "version": 3
   },
   "file_extension": ".py",
   "mimetype": "text/x-python",
   "name": "python",
   "nbconvert_exporter": "python",
   "pygments_lexer": "ipython3",
   "version": "3.9.18"
  }
 },
 "nbformat": 4,
 "nbformat_minor": 2
}
