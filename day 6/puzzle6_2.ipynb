{
 "cells": [
  {
   "cell_type": "code",
   "execution_count": 19,
   "metadata": {},
   "outputs": [],
   "source": [
    "import re"
   ]
  },
  {
   "cell_type": "code",
   "execution_count": 20,
   "metadata": {},
   "outputs": [],
   "source": [
    "with open(\"input.txt\") as f:\n",
    "    lines = f.readlines()\n",
    "    \n",
    "    "
   ]
  },
  {
   "cell_type": "code",
   "execution_count": 21,
   "metadata": {},
   "outputs": [],
   "source": [
    "time_line = lines[0].split(\":\")[1]\n",
    "dist_line = lines[1].split(\":\")[1]"
   ]
  },
  {
   "cell_type": "code",
   "execution_count": 22,
   "metadata": {},
   "outputs": [
    {
     "name": "stdout",
     "output_type": "stream",
     "text": [
      "56977793\n",
      "499221010971440\n"
     ]
    }
   ],
   "source": [
    "time = int(time_line.replace(\" \", \"\"))\n",
    "distance = int(dist_line.replace(\" \", \"\"))\n",
    "\n",
    "print(time)\n",
    "print(distance)\n"
   ]
  },
  {
   "cell_type": "code",
   "execution_count": 23,
   "metadata": {},
   "outputs": [],
   "source": [
    "def calculate_margin(time,distance):\n",
    "    count = 0\n",
    "    for hold_time in range(time):\n",
    "        race_time = time - hold_time\n",
    "        race_distance = race_time * hold_time\n",
    "        if race_distance > distance:\n",
    "            count += 1\n",
    "    return count"
   ]
  },
  {
   "cell_type": "code",
   "execution_count": 24,
   "metadata": {},
   "outputs": [
    {
     "name": "stdout",
     "output_type": "stream",
     "text": [
      "Race Margin: 35349468\n",
      "TOTAL MARGIN: 35349468\n"
     ]
    }
   ],
   "source": [
    "total_margin = 1\n",
    "race_margin = calculate_margin(time,distance)\n",
    "print(\"Race Margin:\",race_margin)\n",
    "total_margin = total_margin * race_margin\n",
    "\n",
    "print(\"TOTAL MARGIN:\", total_margin)"
   ]
  }
 ],
 "metadata": {
  "kernelspec": {
   "display_name": "ganenv",
   "language": "python",
   "name": "python3"
  },
  "language_info": {
   "codemirror_mode": {
    "name": "ipython",
    "version": 3
   },
   "file_extension": ".py",
   "mimetype": "text/x-python",
   "name": "python",
   "nbconvert_exporter": "python",
   "pygments_lexer": "ipython3",
   "version": "3.9.18"
  }
 },
 "nbformat": 4,
 "nbformat_minor": 2
}
