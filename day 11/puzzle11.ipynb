{
 "cells": [
  {
   "cell_type": "code",
   "execution_count": null,
   "metadata": {},
   "outputs": [],
   "source": [
    "import numpy as np\n",
    "import re\n",
    "import pandas as pd"
   ]
  },
  {
   "cell_type": "code",
   "execution_count": null,
   "metadata": {},
   "outputs": [],
   "source": [
    "with open('input.txt') as f:\n",
    "    lines = f.readlines()"
   ]
  },
  {
   "cell_type": "code",
   "execution_count": null,
   "metadata": {},
   "outputs": [],
   "source": [
    "space = []\n",
    "for line in lines:\n",
    "    space.append(line.split(\"\\n\")[0])"
   ]
  },
  {
   "cell_type": "code",
   "execution_count": null,
   "metadata": {},
   "outputs": [],
   "source": [
    "def expand_space(space):\n",
    "    print(space.size)\n",
    "    new_space = []\n",
    "    for x,row in enumerate(space):\n",
    "        arr = list([c for c in row])\n",
    "        new_space.append(arr)\n",
    "\n",
    "    empty_rows = []\n",
    "    for i,row in enumerate(new_space):\n",
    "        if not \"#\" in row:\n",
    "            empty_rows.append(i)\n",
    "        \n",
    "    empty_columns = []\n",
    "    for i, column in enumerate(np.transpose(new_space)):\n",
    "        if not \"#\" in column:\n",
    "            empty_columns.append(i)\n",
    "            \n",
    "    print(empty_columns, empty_rows)\n",
    "\n",
    "    return space, empty_rows, empty_columns\n",
    "\n",
    "space,empty_rows, empty_columns = expand_space(np.array(space))"
   ]
  },
  {
   "cell_type": "code",
   "execution_count": null,
   "metadata": {},
   "outputs": [],
   "source": [
    "galaxies = []\n",
    "for x,row in enumerate(space):\n",
    "    potential_galaxies = [i for i, c in enumerate(row) if c == \"#\"]\n",
    "    for y in potential_galaxies:\n",
    "        galaxies.append((x,y))\n",
    "# print(galaxies)"
   ]
  },
  {
   "cell_type": "code",
   "execution_count": null,
   "metadata": {},
   "outputs": [],
   "source": [
    "def manhattan(a, b):\n",
    "    return sum(abs(val1-val2) for val1, val2 in zip(a,b))\n",
    " "
   ]
  },
  {
   "cell_type": "code",
   "execution_count": 1199,
   "metadata": {},
   "outputs": [
    {
     "name": "stdout",
     "output_type": "stream",
     "text": [
      "9599070\n",
      "---PART 2 ---\n",
      "[15, 34, 39, 47, 52, 58, 60, 82, 90] [6, 9, 51, 54, 59, 61, 66, 68, 70, 83, 91, 102, 116]\n",
      "842645913794\n"
     ]
    }
   ],
   "source": [
    "def calc_path(galaxies,factor):\n",
    "    total_path = 0\n",
    "    i = 0\n",
    "    print(empty_columns,empty_rows)\n",
    "    for i, g1 in enumerate(galaxies):\n",
    "        for j, g2 in enumerate(galaxies):\n",
    "            if j <= i:\n",
    "                continue\n",
    "            path = manhattan(g1,g2)\n",
    "            for row in empty_rows:\n",
    "                if row in range(g1[0], g2[0]) or row in range(g2[0], g1[0]):\n",
    "                    path += factor\n",
    "            for col in empty_columns:\n",
    "                if col in range(g1[1], g2[1]) or col in range(g2[1], g1[1]):\n",
    "                    path += factor\n",
    "\n",
    "            total_path += path\n",
    "    \n",
    "    return total_path\n",
    "\n",
    "print(\"---PART 1 ---\")\n",
    "total_path = calc_path(galaxies,1)   \n",
    "print(total_path)\n",
    "\n",
    "print(\"---PART 2 ---\")\n",
    "total_path = calc_path(galaxies,999999)   \n",
    "print(total_path)"
   ]
  }
 ],
 "metadata": {
  "kernelspec": {
   "display_name": "ganenv",
   "language": "python",
   "name": "python3"
  },
  "language_info": {
   "codemirror_mode": {
    "name": "ipython",
    "version": 3
   },
   "file_extension": ".py",
   "mimetype": "text/x-python",
   "name": "python",
   "nbconvert_exporter": "python",
   "pygments_lexer": "ipython3",
   "version": "3.9.18"
  }
 },
 "nbformat": 4,
 "nbformat_minor": 2
}
