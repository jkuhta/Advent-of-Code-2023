{
 "cells": [
  {
   "cell_type": "code",
   "execution_count": null,
   "metadata": {},
   "outputs": [],
   "source": [
    "with open('input.txt') as f:\n",
    "    lines = f.readlines()"
   ]
  },
  {
   "cell_type": "code",
   "execution_count": null,
   "metadata": {},
   "outputs": [],
   "source": [
    "field = []\n",
    "\n",
    "for i, line in enumerate(lines):\n",
    "    tiles = line.split('\\n')[0]#.split(\"\")\n",
    "    field.append(tiles)\n",
    "\n",
    "start = (0,0)\n",
    "\n",
    "for i,row in enumerate(field):\n",
    "    j = row.find('S')\n",
    "    if j >= 0:\n",
    "        start = (i,j) \n",
    "    print(row)\n",
    "\n",
    "print(start)\n"
   ]
  },
  {
   "cell_type": "code",
   "execution_count": null,
   "metadata": {},
   "outputs": [],
   "source": [
    "move_dict = {\n",
    "    \"U\": (-1,0),\n",
    "    \"R\": (0,1),\n",
    "    \"D\": (1,0),\n",
    "    \"L\": (0,-1),\n",
    "}"
   ]
  },
  {
   "cell_type": "code",
   "execution_count": null,
   "metadata": {},
   "outputs": [],
   "source": [
    "tile_dict = {\n",
    "    (\"|\", \"U\"): \"U\",\n",
    "    (\"|\", \"D\"): \"D\",\n",
    "    (\"-\", \"L\"): \"L\",\n",
    "    (\"-\", \"R\"): \"R\",\n",
    "    (\"L\", \"D\"): \"R\",\n",
    "    (\"L\", \"L\"): \"U\",\n",
    "    (\"7\", \"R\"): \"D\",\n",
    "    (\"7\", \"U\"): \"L\",\n",
    "    (\"J\", \"R\"): \"U\",\n",
    "    (\"J\", \"D\"): \"L\",\n",
    "    (\"F\", \"U\"): \"R\",\n",
    "    (\"F\", \"L\"): \"D\",\n",
    "}\n",
    "\n",
    "print(tile_dict)"
   ]
  },
  {
   "cell_type": "code",
   "execution_count": null,
   "metadata": {},
   "outputs": [],
   "source": [
    "def find_next_position(prev_move, position, field):\n",
    "    tile = field[position[0]][position[1]]\n",
    "    \n",
    "    if (tile,prev_move) not in tile_dict or tile == \".\":\n",
    "        return None, None\n",
    "    move = tile_dict[(tile,prev_move)]\n",
    "    #print(move, tile)\n",
    "\n",
    "    \n",
    "    next_position = tuple(x + y for x, y in zip(position, move_dict[move]))\n",
    "    \n",
    "    return next_position, move"
   ]
  },
  {
   "cell_type": "code",
   "execution_count": null,
   "metadata": {},
   "outputs": [],
   "source": [
    "def find_first_move(start,field):\n",
    "    for first_move in [\"R\",\"D\", \"L\", \"U\"]:\n",
    "        next_pos = tuple(x + y for x, y in zip(start, move_dict[first_move]))\n"
   ]
  },
  {
   "cell_type": "code",
   "execution_count": null,
   "metadata": {},
   "outputs": [],
   "source": [
    "position = start\n",
    "\n",
    "for first_move in [\"R\", \"D\", \"L\", \"U\"]:\n",
    "    position = start\n",
    "    successful_path = True\n",
    "    prev_move = first_move\n",
    "    position = tuple(x + y for x, y in zip(position, move_dict[prev_move]))\n",
    "    steps = 1\n",
    "\n",
    "    print(position)\n",
    "\n",
    "    while position != start:\n",
    "        next_position, move = find_next_position(prev_move, position, field)\n",
    "        if next_position == None:\n",
    "            print(first_move, \"was not the right Start.\")\n",
    "            successful_path = False\n",
    "            break\n",
    "        prev_move = move\n",
    "        position = next_position\n",
    "        steps += 1\n",
    "    \n",
    "    if successful_path:\n",
    "        break\n",
    "    \n",
    "\n",
    "print(\"FURTHEST TILE:\", steps // 2)"
   ]
  }
 ],
 "metadata": {
  "kernelspec": {
   "display_name": "ganenv",
   "language": "python",
   "name": "python3"
  },
  "language_info": {
   "codemirror_mode": {
    "name": "ipython",
    "version": 3
   },
   "file_extension": ".py",
   "mimetype": "text/x-python",
   "name": "python",
   "nbconvert_exporter": "python",
   "pygments_lexer": "ipython3",
   "version": "3.9.18"
  }
 },
 "nbformat": 4,
 "nbformat_minor": 2
}
