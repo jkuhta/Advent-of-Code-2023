{
 "cells": [
  {
   "cell_type": "code",
   "execution_count": 54,
   "metadata": {},
   "outputs": [],
   "source": [
    "import re"
   ]
  },
  {
   "cell_type": "code",
   "execution_count": 55,
   "metadata": {},
   "outputs": [
    {
     "name": "stdout",
     "output_type": "stream",
     "text": [
      "Card   1: 69 61 27 58 89 52 81 94 40 51 | 43 40 52 90 37 97 89 80 69 42 51 70 94 58 10 73 21 29 61 63 57 79 81 27 35\n",
      "\n"
     ]
    }
   ],
   "source": [
    "with open('input.txt') as f:\n",
    "    lines = f.readlines()\n",
    "    \n",
    "print(lines[0])"
   ]
  },
  {
   "cell_type": "code",
   "execution_count": 56,
   "metadata": {},
   "outputs": [],
   "source": [
    "card_points = 0"
   ]
  },
  {
   "cell_type": "code",
   "execution_count": 57,
   "metadata": {},
   "outputs": [],
   "source": [
    "def check_points(win_nums, my_nums):\n",
    "    intersect = win_nums.intersection(my_nums)\n",
    "    num_winning = len(intersect)\n",
    "    \n",
    "    if num_winning > 0:\n",
    "        points = 2**(num_winning-1)\n",
    "        return points\n",
    "    \n",
    "    return 0"
   ]
  },
  {
   "cell_type": "code",
   "execution_count": 58,
   "metadata": {},
   "outputs": [
    {
     "name": "stdout",
     "output_type": "stream",
     "text": [
      "POINTS: 26914\n"
     ]
    }
   ],
   "source": [
    "for ix, line in enumerate(lines):\n",
    "    line_id = ix + 1\n",
    "    \n",
    "    line = line.split(\":\")[1]\n",
    "    win_nums, my_nums = line.split(\"|\")\n",
    "    \n",
    "    win_nums = re.findall(r'\\d+', win_nums)\n",
    "    my_nums = re.findall(r'\\d+', my_nums)\n",
    "\n",
    "    card_point = check_points(set(win_nums), set(my_nums))\n",
    "    \n",
    "    card_points += card_point\n",
    "\n",
    "print(\"POINTS:\", card_points)"
   ]
  }
 ],
 "metadata": {
  "kernelspec": {
   "display_name": "ganenv",
   "language": "python",
   "name": "python3"
  },
  "language_info": {
   "codemirror_mode": {
    "name": "ipython",
    "version": 3
   },
   "file_extension": ".py",
   "mimetype": "text/x-python",
   "name": "python",
   "nbconvert_exporter": "python",
   "pygments_lexer": "ipython3",
   "version": "3.9.18"
  }
 },
 "nbformat": 4,
 "nbformat_minor": 2
}
