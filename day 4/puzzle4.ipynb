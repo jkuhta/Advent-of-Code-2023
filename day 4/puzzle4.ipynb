{
 "cells": [
  {
   "cell_type": "code",
   "execution_count": 31,
   "metadata": {},
   "outputs": [],
   "source": [
    "import re"
   ]
  },
  {
   "cell_type": "code",
   "execution_count": 32,
   "metadata": {},
   "outputs": [
    {
     "name": "stdout",
     "output_type": "stream",
     "text": [
      "Card 1: 41 48 83 86 17 | 83 86  6 31 17  9 48 53\n",
      "\n"
     ]
    }
   ],
   "source": [
    "with open('test.txt') as f:\n",
    "    lines = f.readlines()\n",
    "    \n",
    "print(lines[0])"
   ]
  },
  {
   "cell_type": "code",
   "execution_count": 33,
   "metadata": {},
   "outputs": [],
   "source": [
    "card_points = 0"
   ]
  },
  {
   "cell_type": "code",
   "execution_count": 34,
   "metadata": {},
   "outputs": [],
   "source": [
    "def check_points(win_nums, my_nums):\n",
    "    intersect = win_nums.intersection(my_nums)\n",
    "    num_winning = len(intersect)\n",
    "    \n",
    "    if num_winning > 0:\n",
    "        points = 2**(num_winning-1)\n",
    "        return points\n",
    "    \n",
    "    return 0"
   ]
  },
  {
   "cell_type": "code",
   "execution_count": 35,
   "metadata": {},
   "outputs": [
    {
     "name": "stdout",
     "output_type": "stream",
     "text": [
      "POINTS: 13\n"
     ]
    }
   ],
   "source": [
    "for ix, line in enumerate(lines):\n",
    "    line_id = ix + 1\n",
    "    \n",
    "    line = line.split(\":\")[1]\n",
    "    win_nums, my_nums = line.split(\"|\")\n",
    "    \n",
    "    win_nums = re.findall(r'\\d+', win_nums)\n",
    "    my_nums = re.findall(r'\\d+', my_nums)\n",
    "\n",
    "    card_point = check_points(set(win_nums), set(my_nums))\n",
    "    #print(card_point)\n",
    "    card_points += card_point\n",
    "\n",
    "print(\"POINTS:\", card_points)"
   ]
  }
 ],
 "metadata": {
  "kernelspec": {
   "display_name": "ganenv",
   "language": "python",
   "name": "python3"
  },
  "language_info": {
   "codemirror_mode": {
    "name": "ipython",
    "version": 3
   },
   "file_extension": ".py",
   "mimetype": "text/x-python",
   "name": "python",
   "nbconvert_exporter": "python",
   "pygments_lexer": "ipython3",
   "version": "3.9.18"
  }
 },
 "nbformat": 4,
 "nbformat_minor": 2
}
