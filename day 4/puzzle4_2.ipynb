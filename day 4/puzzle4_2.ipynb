{
 "cells": [
  {
   "cell_type": "code",
   "execution_count": 114,
   "metadata": {},
   "outputs": [],
   "source": [
    "import re"
   ]
  },
  {
   "cell_type": "code",
   "execution_count": 115,
   "metadata": {},
   "outputs": [
    {
     "name": "stdout",
     "output_type": "stream",
     "text": [
      "Card   1: 69 61 27 58 89 52 81 94 40 51 | 43 40 52 90 37 97 89 80 69 42 51 70 94 58 10 73 21 29 61 63 57 79 81 27 35\n",
      "\n"
     ]
    }
   ],
   "source": [
    "with open('input.txt') as f:\n",
    "    lines = f.readlines()\n",
    "    \n",
    "print(lines[0])"
   ]
  },
  {
   "cell_type": "code",
   "execution_count": 116,
   "metadata": {},
   "outputs": [],
   "source": [
    " \n",
    "total_cards = 0"
   ]
  },
  {
   "cell_type": "code",
   "execution_count": 117,
   "metadata": {},
   "outputs": [],
   "source": [
    "def check_points(win_nums, my_nums):\n",
    "    intersect = win_nums.intersection(my_nums)\n",
    "    num_winning = len(intersect)\n",
    "    \n",
    "    # if num_winning > 0:\n",
    "    #     points = 2**(num_winning-1)\n",
    "    #     return points\n",
    "    \n",
    "    return num_winning"
   ]
  },
  {
   "cell_type": "code",
   "execution_count": 118,
   "metadata": {},
   "outputs": [],
   "source": [
    "def transform_line(line):\n",
    "    line_name, line = line.split(\":\")\n",
    "    win_nums, my_nums = line.split(\"|\")\n",
    "    \n",
    "    win_nums = re.findall(r'\\d+', win_nums)\n",
    "    my_nums = re.findall(r'\\d+', my_nums)\n",
    "    \n",
    "    return (win_nums, my_nums, line_name)"
   ]
  },
  {
   "cell_type": "code",
   "execution_count": 119,
   "metadata": {},
   "outputs": [],
   "source": [
    "def count_cards(lines, ix):\n",
    "    global total_cards\n",
    "    # if no cards left or win_num = 0 return 0\n",
    "    if ix >= len(lines):\n",
    "        return\n",
    "    \n",
    "    total_cards += 1\n",
    "\n",
    "    win_nums, my_nums, line_name = transform_line(lines[ix])\n",
    "    card_point = check_points(set(win_nums), set(my_nums))\n",
    "    \n",
    "    #print(line_name,card_point)\n",
    "    \n",
    "    if card_point == 0:\n",
    "        return\n",
    "\n",
    "    else:\n",
    "        for i in range(card_point):\n",
    "            count_cards(lines, ix + i + 1)"
   ]
  },
  {
   "cell_type": "code",
   "execution_count": 120,
   "metadata": {},
   "outputs": [
    {
     "name": "stdout",
     "output_type": "stream",
     "text": [
      "TOTAL CARDS: 13080971\n"
     ]
    }
   ],
   "source": [
    "for ix, line in enumerate(lines):\n",
    "    count_cards(lines, ix)\n",
    "\n",
    "print(\"TOTAL CARDS:\", total_cards)"
   ]
  }
 ],
 "metadata": {
  "kernelspec": {
   "display_name": "ganenv",
   "language": "python",
   "name": "python3"
  },
  "language_info": {
   "codemirror_mode": {
    "name": "ipython",
    "version": 3
   },
   "file_extension": ".py",
   "mimetype": "text/x-python",
   "name": "python",
   "nbconvert_exporter": "python",
   "pygments_lexer": "ipython3",
   "version": "3.9.18"
  }
 },
 "nbformat": 4,
 "nbformat_minor": 2
}
