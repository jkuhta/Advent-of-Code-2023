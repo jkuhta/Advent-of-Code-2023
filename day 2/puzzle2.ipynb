{
 "cells": [
  {
   "cell_type": "code",
   "execution_count": 123,
   "metadata": {},
   "outputs": [
    {
     "name": "stdout",
     "output_type": "stream",
     "text": [
      "Game 1: 3 blue, 4 red; 1 red, 2 green, 6 blue; 2 green\n",
      "\n"
     ]
    }
   ],
   "source": [
    "with open(\"test.txt\") as f:\n",
    "    lines = f.readlines()\n",
    "\n",
    "print(lines[0])"
   ]
  },
  {
   "cell_type": "code",
   "execution_count": 124,
   "metadata": {},
   "outputs": [],
   "source": [
    "RED = 12\n",
    "GREEN = 13\n",
    "BLUE = 14"
   ]
  },
  {
   "cell_type": "code",
   "execution_count": 125,
   "metadata": {},
   "outputs": [],
   "source": [
    "def get_cubes(set):\n",
    "    color2count = {\"red\": 0, \"green\": 0, \"blue\": 0}\n",
    "    combs = set.split(\",\")\n",
    "    for comb in combs:\n",
    "        _, count, color = comb.split(\" \")\n",
    "        color2count[color] += int(count)\n",
    "    \n",
    "    return color2count[\"red\"], color2count[\"green\"], color2count[\"blue\"]"
   ]
  },
  {
   "cell_type": "code",
   "execution_count": 126,
   "metadata": {},
   "outputs": [],
   "source": [
    "total_sum_of_ids = 0"
   ]
  },
  {
   "cell_type": "code",
   "execution_count": 127,
   "metadata": {},
   "outputs": [
    {
     "name": "stdout",
     "output_type": "stream",
     "text": [
      "4 2 6\n",
      "1 3 4\n",
      "20 13 6\n",
      "14 3 15\n",
      "6 3 2\n",
      "8\n"
     ]
    }
   ],
   "source": [
    "for id, game in enumerate(lines):\n",
    "    #print(id)\n",
    "    sets = game.split(\":\")[1].split(\"\\n\")[0].split(\";\")\n",
    "    possible = True\n",
    "    r_min, g_min, b_min = 0,0,0\n",
    "    for set in sets:\n",
    "        r,g,b = get_cubes(set)\n",
    "        #print(r,g,b)\n",
    "        if r > r_min: r_min=r\n",
    "        if g > g_min: g_min=g\n",
    "        if b > b_min: b_min=b\n",
    "        \n",
    "        if r > RED or g > GREEN or b > BLUE:\n",
    "            #print(\"IMPOSSIBLE\", id)\n",
    "            possible = False\n",
    "            \n",
    "    game_power = r_min * g_min * b_min\n",
    "    \n",
    "    print(r_min, g_min, b_min)\n",
    "    if possible:\n",
    "        total_sum_of_ids += id + 1\n",
    "\n",
    "print(total_sum_of_ids)"
   ]
  }
 ],
 "metadata": {
  "kernelspec": {
   "display_name": "ganenv",
   "language": "python",
   "name": "python3"
  },
  "language_info": {
   "codemirror_mode": {
    "name": "ipython",
    "version": 3
   },
   "file_extension": ".py",
   "mimetype": "text/x-python",
   "name": "python",
   "nbconvert_exporter": "python",
   "pygments_lexer": "ipython3",
   "version": "3.9.18"
  }
 },
 "nbformat": 4,
 "nbformat_minor": 2
}
