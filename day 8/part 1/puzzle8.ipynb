{
 "cells": [
  {
   "cell_type": "code",
   "execution_count": null,
   "metadata": {},
   "outputs": [],
   "source": [
    "with open('input.txt') as f:\n",
    "    lines = f.readlines()"
   ]
  },
  {
   "cell_type": "code",
   "execution_count": null,
   "metadata": {},
   "outputs": [],
   "source": [
    "instructions = lines[0]"
   ]
  },
  {
   "cell_type": "code",
   "execution_count": null,
   "metadata": {},
   "outputs": [],
   "source": [
    "dict = {}\n",
    "for line in lines[2:]:\n",
    "    parts = line.split(\"=\")\n",
    "    element = parts[0].strip()\n",
    "    routes = (parts[1][2:5], parts[1][7:10])\n",
    "    dict[element] = routes\n",
    "\n",
    "print(dict)"
   ]
  },
  {
   "cell_type": "code",
   "execution_count": null,
   "metadata": {},
   "outputs": [],
   "source": [
    "ix = 0\n",
    "steps = 0\n",
    "element = \"AAA\"\n",
    "\n",
    "while(element != \"ZZZ\"):\n",
    "    instruction = instructions[ix]\n",
    "    print(instruction, element, ix)\n",
    "\n",
    "    if instruction == \"L\":\n",
    "        next_element = dict[element][0]\n",
    "    else:\n",
    "        next_element = dict[element][1]\n",
    "\n",
    "    element = next_element\n",
    "    \n",
    "    ix += 1\n",
    "    if ix == len(instructions) - 1:\n",
    "        ix = 0\n",
    "        \n",
    "    steps += 1\n",
    "    \n",
    "print(\"TOTAL STEPS:\", steps)"
   ]
  }
 ],
 "metadata": {
  "kernelspec": {
   "display_name": "ganenv",
   "language": "python",
   "name": "python3"
  },
  "language_info": {
   "codemirror_mode": {
    "name": "ipython",
    "version": 3
   },
   "file_extension": ".py",
   "mimetype": "text/x-python",
   "name": "python",
   "nbconvert_exporter": "python",
   "pygments_lexer": "ipython3",
   "version": "3.9.18"
  }
 },
 "nbformat": 4,
 "nbformat_minor": 2
}
